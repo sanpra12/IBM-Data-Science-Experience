{
    "nbformat_minor": 1, 
    "metadata": {
        "kernelspec": {
            "name": "python3", 
            "display_name": "Python 3.5 with Spark", 
            "language": "python3"
        }, 
        "language_info": {
            "name": "python", 
            "mimetype": "text/x-python", 
            "pygments_lexer": "ipython3", 
            "nbconvert_exporter": "python", 
            "codemirror_mode": {
                "name": "ipython", 
                "version": 3
            }, 
            "file_extension": ".py", 
            "version": "3.5.4"
        }
    }, 
    "cells": [
        {
            "metadata": {
                "collapsed": true
            }, 
            "cell_type": "markdown", 
            "source": "My Jupyter Notebook on IBM Data Science Experience"
        }, 
        {
            "metadata": {}, 
            "cell_type": "markdown", 
            "source": "# Sanjay Pramanik  Manager"
        }, 
        {
            "metadata": {}, 
            "cell_type": "markdown", 
            "source": "## I am interested in data science because I want to switch as Data Scientist Role in IBM"
        }, 
        {
            "metadata": {}, 
            "cell_type": "markdown", 
            "source": "### My code is  to get the output of Addition of 1 &2"
        }, 
        {
            "outputs": [
                {
                    "output_type": "execute_result", 
                    "metadata": {}, 
                    "execution_count": 2, 
                    "data": {
                        "text/plain": "3"
                    }
                }
            ], 
            "execution_count": 2, 
            "metadata": {}, 
            "cell_type": "code", 
            "source": "1+2"
        }, 
        {
            "outputs": [], 
            "execution_count": null, 
            "metadata": {}, 
            "cell_type": "code", 
            "source": ""
        }
    ], 
    "nbformat": 4
}