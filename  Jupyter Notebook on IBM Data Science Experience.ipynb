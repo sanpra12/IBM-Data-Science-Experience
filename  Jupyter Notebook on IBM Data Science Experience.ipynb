{
    "metadata": {
        "language_info": {
            "codemirror_mode": {
                "name": "ipython", 
                "version": 3
            }, 
            "file_extension": ".py", 
            "version": "3.5.4", 
            "name": "python", 
            "pygments_lexer": "ipython3", 
            "mimetype": "text/x-python", 
            "nbconvert_exporter": "python"
        }, 
        "kernelspec": {
            "language": "python3", 
            "display_name": "Python 3.5 with Spark", 
            "name": "python3"
        }
    }, 
    "nbformat": 4, 
    "cells": [
        {
            "metadata": {
                "collapsed": true
            }, 
            "cell_type": "markdown", 
            "source": "# My Jupyter Notebook on IBM Data Science Experience"
        }, 
        {
            "metadata": {}, 
            "cell_type": "markdown", 
            "source": "__Sanjay Pramanik__ <br>  Manager"
        }, 
        {
            "metadata": {}, 
            "cell_type": "markdown", 
            "source": "*I am interested in data science because it helps me to deal with the complex data coming from today's mobile network performance*\n"
        }, 
        {
            "metadata": {}, 
            "cell_type": "markdown", 
            "source": "### My code is  to get the output of Addition of 1 &2"
        }, 
        {
            "metadata": {}, 
            "execution_count": 26, 
            "cell_type": "code", 
            "outputs": [
                {
                    "metadata": {}, 
                    "data": {
                        "text/plain": "3"
                    }, 
                    "execution_count": 26, 
                    "output_type": "execute_result"
                }
            ], 
            "source": "1+2"
        }, 
        {
            "metadata": {}, 
            "cell_type": "markdown", 
            "source": "Ordered and unordered lists:"
        }, 
        {
            "metadata": {}, 
            "cell_type": "markdown", 
            "source": "1 Stars <br>2 Sun <br>3 Moon <br> 4 Earth"
        }, 
        {
            "metadata": {}, 
            "cell_type": "markdown", 
            "source": "  - Regression <br> - linear regressionn <br> - polynomial regression <br> - logistic regression"
        }, 
        {
            "metadata": {}, 
            "cell_type": "markdown", 
            "source": "Strikethrough uses two tildes ~~This is Bad ~~"
        }
    ], 
    "nbformat_minor": 1
}